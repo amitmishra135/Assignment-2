{
 "cells": [
  {
   "cell_type": "markdown",
   "id": "b087a18e-46de-4cba-9665-d5884f9c40e2",
   "metadata": {},
   "source": [
    "Q1=> How do you comment code in Python? What are the different types of comments?\n",
    "\n",
    "Answer=> We use comment in two cases 1st one for single line and second for multiline.\n",
    "\n",
    "        for single line -> #\n",
    "        for Multiline   -> \"\"\" \"\"\"\n",
    "\n",
    "for example-\n"
   ]
  },
  {
   "cell_type": "code",
   "execution_count": null,
   "id": "8eccd0aa-8664-4959-ac0c-56f2dbbde08b",
   "metadata": {},
   "outputs": [],
   "source": [
    "# this is use for single line\n",
    "    \n",
    "\"\"\" if we have multiline then we use three \n",
    "        double inverted comma \"\"\""
   ]
  },
  {
   "cell_type": "markdown",
   "id": "c70da2a6-b521-432e-a7f1-69540b4ef25f",
   "metadata": {},
   "source": [
    "Q2=> What are variables in Python? How do you declare and assign values to variables?\n",
    "\n",
    "Answer=> \n",
    "        python variable are simply container for storing data value.The assignment operator, denoted by the “=” \n",
    "        symbol, is the operator that is used to assign values to variables in Python.\n",
    "        \n",
    "        for example ->"
   ]
  },
  {
   "cell_type": "code",
   "execution_count": null,
   "id": "9cf7477a-1edb-4386-ba5c-019c27b9076a",
   "metadata": {},
   "outputs": [],
   "source": [
    "a = 1\n",
    "# data 1 is assign in side the a "
   ]
  },
  {
   "cell_type": "markdown",
   "id": "57f397b5-bff5-4fcf-b008-c7013cc776dd",
   "metadata": {},
   "source": [
    "Q3=> How do you convert one data type to another in Python?\n",
    "\n",
    "Answer=>In Explicit type conversion, user involvement is required. The user converts one data type to another  according to his own need. This can be done with the help of str(), int(), float(), etc. functions. Let’s see the handling of various type conversions.\n",
    "\n",
    "Also have list(), tuple(), set() etc."
   ]
  },
  {
   "cell_type": "code",
   "execution_count": 7,
   "id": "1ced46a0-ef2f-4e8f-bbc3-5259167630fc",
   "metadata": {},
   "outputs": [
    {
     "name": "stdout",
     "output_type": "stream",
     "text": [
      "<class 'int'>\n",
      "<class 'str'>\n",
      "<class 'float'>\n",
      "<class 'int'>\n",
      "<class 'list'>\n",
      "<class 'tuple'>\n"
     ]
    }
   ],
   "source": [
    "# for example\n",
    "#int to string-\n",
    "a = 2\n",
    "print(type(a))\n",
    "a=str(a)\n",
    "print(type(a))\n",
    "\n",
    "#float to int\n",
    "b = 2.33\n",
    "print(type(b))\n",
    "b =int(b)\n",
    "print(type(b))\n",
    "\n",
    "# list to tuple\n",
    "l = [1,2,3,4]\n",
    "print(type(l))\n",
    "l = tuple(l)\n",
    "print(type(l))"
   ]
  },
  {
   "cell_type": "markdown",
   "id": "993a690a-5fe8-4663-9523-1114bf85ea22",
   "metadata": {},
   "source": [
    "Q4=> How do you write and execute a Python script from the command line?\n",
    "\n",
    "Answer=> \n",
    "We need to open a command line and type the word python followed by the path to our script file \n",
    "like this: python first_script.py Hello World! Then we hit the ENTER button from the keyboard, and that's it."
   ]
  },
  {
   "cell_type": "markdown",
   "id": "d0d448d8-aa91-459a-9ad2-d998252fbb6f",
   "metadata": {},
   "source": [
    "\n",
    "Q5=> Given a list my_list = [1, 2, 3, 4, 5], write the code to slice the list and obtain the sub-list [2, 3]."
   ]
  },
  {
   "cell_type": "code",
   "execution_count": 9,
   "id": "208f6ab1-3761-4310-bf2f-1aa97d8485a0",
   "metadata": {},
   "outputs": [
    {
     "data": {
      "text/plain": [
       "[2, 3]"
      ]
     },
     "execution_count": 9,
     "metadata": {},
     "output_type": "execute_result"
    }
   ],
   "source": [
    "my_list = [1,2,3,3,4,5]\n",
    "m = my_list[1:3:1]\n",
    "m"
   ]
  },
  {
   "cell_type": "markdown",
   "id": "36f9d6ea-6911-43ff-92cd-d890850a2c72",
   "metadata": {},
   "source": [
    "Q5=> What is a complex number in mathematics, and how is it represented in Python?\n",
    "\n",
    "Answer=>Complex numbers are the numbers that are expressed in the form of a+ib where, a,b are real numbers and 'i' is an imaginary number called “iota”."
   ]
  },
  {
   "cell_type": "code",
   "execution_count": 10,
   "id": "b391411d-cc1a-4751-bfd8-ceaca44870ff",
   "metadata": {},
   "outputs": [
    {
     "data": {
      "text/plain": [
       "complex"
      ]
     },
     "execution_count": 10,
     "metadata": {},
     "output_type": "execute_result"
    }
   ],
   "source": [
    "c = 3+4j\n",
    "type(c)"
   ]
  },
  {
   "cell_type": "markdown",
   "id": "6e0686e5-a321-4bac-b8a8-6df5813dded5",
   "metadata": {},
   "source": [
    "Q7=> What is the correct way to declare a variable named age and assign the value 25 to it?"
   ]
  },
  {
   "cell_type": "code",
   "execution_count": 11,
   "id": "3ff6c332-9df1-4a8c-a518-cf3de2fa6350",
   "metadata": {},
   "outputs": [
    {
     "name": "stdin",
     "output_type": "stream",
     "text": [
      "Enter the age: 25\n"
     ]
    },
    {
     "data": {
      "text/plain": [
       "25"
      ]
     },
     "execution_count": 11,
     "metadata": {},
     "output_type": "execute_result"
    }
   ],
   "source": [
    "age = int(input(\"Enter the age:\"))\n",
    "age"
   ]
  },
  {
   "cell_type": "markdown",
   "id": "57c49f41-aa49-448f-a630-0f20592f7187",
   "metadata": {},
   "source": [
    "Q8=> Declare a variable named price and assign the value 9.99 to it. What data type does this variable\n",
    "    belong to?"
   ]
  },
  {
   "cell_type": "code",
   "execution_count": 13,
   "id": "fa283d94-f691-4bf2-98b0-86951c09fecb",
   "metadata": {},
   "outputs": [
    {
     "data": {
      "text/plain": [
       "float"
      ]
     },
     "execution_count": 13,
     "metadata": {},
     "output_type": "execute_result"
    }
   ],
   "source": [
    "price = 9.99\n",
    "type(price)"
   ]
  },
  {
   "cell_type": "markdown",
   "id": "7277480b-6651-4c43-a817-ac84a36c4ae9",
   "metadata": {},
   "source": [
    "Q9=> Create a variable named name and assign your full name to it as a string. How would you print the\n",
    "value of this variable?"
   ]
  },
  {
   "cell_type": "code",
   "execution_count": 14,
   "id": "bbbe9faa-e138-48cb-b6c5-ace85c7694b7",
   "metadata": {},
   "outputs": [
    {
     "name": "stdin",
     "output_type": "stream",
     "text": [
      " Amit Mishra\n"
     ]
    },
    {
     "data": {
      "text/plain": [
       "'Amit Mishra'"
      ]
     },
     "execution_count": 14,
     "metadata": {},
     "output_type": "execute_result"
    }
   ],
   "source": [
    "name = input()\n",
    "name"
   ]
  },
  {
   "cell_type": "markdown",
   "id": "6c713f43-ad0a-4b6d-b067-5b057c78b021",
   "metadata": {},
   "source": [
    "Q10=> Given the string \"Hello, World!\", extract the substring \"World\"."
   ]
  },
  {
   "cell_type": "code",
   "execution_count": 15,
   "id": "2a5eed5d-0c2f-42b0-a359-1ed9bac636c3",
   "metadata": {},
   "outputs": [
    {
     "data": {
      "text/plain": [
       "'World!'"
      ]
     },
     "execution_count": 15,
     "metadata": {},
     "output_type": "execute_result"
    }
   ],
   "source": [
    "a = \"Hello, World!\"\n",
    "a[7::1]"
   ]
  },
  {
   "cell_type": "markdown",
   "id": "fdfb6c1d-c24d-4650-9c15-f4047b745d0c",
   "metadata": {},
   "source": [
    "Q11=> Create a variable named \"is_student\" and assign it a boolean value indicating whether you are\n",
    "currently a student or not."
   ]
  },
  {
   "cell_type": "code",
   "execution_count": 26,
   "id": "536f5a47-444d-4e05-b89e-762098fbfee5",
   "metadata": {},
   "outputs": [
    {
     "name": "stdout",
     "output_type": "stream",
     "text": [
      "student\n"
     ]
    }
   ],
   "source": [
    "is_student = True\n",
    "if is_student:\n",
    "    print(\"student\")\n",
    "else:\n",
    "    print(\"not a student\")"
   ]
  }
 ],
 "metadata": {
  "kernelspec": {
   "display_name": "Python 3 (ipykernel)",
   "language": "python",
   "name": "python3"
  },
  "language_info": {
   "codemirror_mode": {
    "name": "ipython",
    "version": 3
   },
   "file_extension": ".py",
   "mimetype": "text/x-python",
   "name": "python",
   "nbconvert_exporter": "python",
   "pygments_lexer": "ipython3",
   "version": "3.10.8"
  }
 },
 "nbformat": 4,
 "nbformat_minor": 5
}
